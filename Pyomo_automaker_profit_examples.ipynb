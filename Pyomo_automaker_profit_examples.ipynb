{
 "cells": [
  {
   "cell_type": "markdown",
   "metadata": {},
   "source": [
    "### (0) Overview\n",
    "The objective of this code is to implement an automaker's profit maximization in pyomo & ipopt. The implementation for an automaker with 3 vehicles (1 EV, 2 ICE) starts with the simplest forms of the problem with only price variables and builds towards a formulation with demand, variables for price and design, and constraints for ghg and design."
   ]
  },
  {
   "cell_type": "code",
   "execution_count": 1,
   "metadata": {
    "ExecuteTime": {
     "end_time": "2024-02-16T15:53:43.986630600Z",
     "start_time": "2024-02-16T15:53:42.217431100Z"
    }
   },
   "outputs": [],
   "source": [
    "# !pip install pyomo # if needed\n",
    "# !pip install pandas\n",
    "# ! pip install matplotlib\n",
    "import pyomo.environ as pyo\n",
    "import pandas as pd\n",
    "import matplotlib.pyplot as plt\n",
    "import time\n",
    "from dataclasses import dataclass"
   ]
  },
  {
   "cell_type": "markdown",
   "metadata": {},
   "source": [
    "# Single Automaker"
   ]
  },
  {
   "cell_type": "markdown",
   "metadata": {},
   "source": [
    "## 1: Price Variable Examples"
   ]
  },
  {
   "cell_type": "markdown",
   "metadata": {},
   "source": [
    "### (a) Profit w/o Demand\n",
    "\n",
    "min: $\\pi_k = \\sum_{j \\in J_k} (p_j - c_j )$\n",
    "\n",
    "wrt: $p_j  \\ \\forall j \\in J$"
   ]
  },
  {
   "cell_type": "code",
   "execution_count": 2,
   "metadata": {
    "ExecuteTime": {
     "end_time": "2024-02-16T15:53:44.063007900Z",
     "start_time": "2024-02-16T15:53:43.992610200Z"
    }
   },
   "outputs": [
    {
     "name": "stdout",
     "output_type": "stream",
     "text": [
      "\n",
      "Problem: \n",
      "- Lower bound: -inf\n",
      "  Upper bound: inf\n",
      "  Number of objectives: 1\n",
      "  Number of constraints: 0\n",
      "  Number of variables: 3\n",
      "  Sense: unknown\n",
      "Solver: \n",
      "- Status: ok\n",
      "  Message: Ipopt 3.11.1\\x3a Optimal Solution Found\n",
      "  Termination condition: optimal\n",
      "  Id: 0\n",
      "  Error rc: 0\n",
      "  Time: 0.03440117835998535\n",
      "Solution: \n",
      "- number of solutions: 0\n",
      "  number of solutions displayed: 0\n"
     ]
    }
   ],
   "source": [
    "model = pyo.AbstractModel() # Declare model\n",
    "\n",
    "# Declare problem parameters (number of vehicles, tech pkgs, etc.)\n",
    "model.n_vehicles = pyo.Param(within=pyo.NonNegativeIntegers) # Number of vehicles\n",
    "\n",
    "# Declare sets (1...n)\n",
    "model.vehicle_set = pyo.RangeSet(1,model.n_vehicles) # Set of vehicles\n",
    "\n",
    "# Declare parameters\n",
    "model.vehicle_costs = pyo.Param(model.vehicle_set) # Cost params (for each vehicle)\n",
    "\n",
    "# Declare decision vars\n",
    "model.vehicle_prices = pyo.Var(model.vehicle_set, domain=pyo.NonNegativeReals, bounds=(0,100)) # Matching/indexed by set J, of size n_vehicles\n",
    "\n",
    "# Define objective\n",
    "def obj(model):\n",
    "    profit = sum((model.vehicle_prices[vehicle_id] - model.vehicle_costs[vehicle_id]) for vehicle_id in model.vehicle_set)\n",
    "    return profit\n",
    "\n",
    "model.obj = pyo.Objective(rule=obj, sense=pyo.maximize)\n",
    "\n",
    "# Define instance\n",
    "dummy_vehicle_data = {None: {                     # none required entry\n",
    "    'n_vehicles': {None: 3},               # scalars must have none\n",
    "    'vehicle_costs': {1: 10, 2: 15, 3: 20}\n",
    "}}\n",
    "\n",
    "# Create an instance of the model\n",
    "instance = model.create_instance(dummy_vehicle_data)\n",
    "\n",
    "solver = pyo.SolverFactory('ipopt',executable='C:\\\\Ipopt\\\\bin\\\\ipopt.exe')\n",
    "results = solver.solve(instance)\n",
    "print(results)"
   ]
  },
  {
   "cell_type": "markdown",
   "metadata": {},
   "source": [
    "### (b) Profit w/  Demand\n",
    "\n",
    "min: $\\pi = \\sum_{j \\in J} q_j (p_j - c_j )$\n",
    "\n",
    "wrt: $p_j  \\ \\forall j \\in J$\n",
    "\n",
    "where: $v_j = \\beta_p * p_j$ \\\n",
    "$q_j = \\frac{\\exp(v_j)}{\\sum_{l \\in J}\\exp(v_l)+v_{og}}*m$"
   ]
  },
  {
   "cell_type": "code",
   "execution_count": 3,
   "metadata": {
    "ExecuteTime": {
     "end_time": "2024-02-16T15:53:44.164822300Z",
     "start_time": "2024-02-16T15:53:44.069984600Z"
    }
   },
   "outputs": [
    {
     "name": "stdout",
     "output_type": "stream",
     "text": [
      "        0.00 seconds required to write file\n",
      "        0.00 seconds required for presolve\n",
      "        0.05 seconds required for solver\n",
      "        0.00 seconds required to read logfile \n",
      "        0.00 seconds required to read solution file\n",
      "        0.00 seconds required for postsolve\n",
      "\n",
      "Problem: \n",
      "- Lower bound: -inf\n",
      "  Upper bound: inf\n",
      "  Number of objectives: 1\n",
      "  Number of constraints: 0\n",
      "  Number of variables: 3\n",
      "  Sense: unknown\n",
      "Solver: \n",
      "- Status: ok\n",
      "  Message: Ipopt 3.11.1\\x3a Optimal Solution Found\n",
      "  Termination condition: optimal\n",
      "  Id: 0\n",
      "  Error rc: 0\n",
      "  Time: 0.04531598091125488\n",
      "Solution: \n",
      "- number of solutions: 0\n",
      "  number of solutions displayed: 0\n",
      "\n",
      "Objective value: 2.1542271863238827\n",
      "vehicle_prices[1]: 22.154227195338724\n",
      "vehicle_prices[2]: 27.1542271969544\n",
      "vehicle_prices[3]: 32.154227198737885\n"
     ]
    }
   ],
   "source": [
    "model = pyo.AbstractModel() # declare model\n",
    "\n",
    "# Declare problem parameters (number of vehicles, tech pkgs, etc.)\n",
    "model.n_vehicles = pyo.Param(within=pyo.NonNegativeIntegers) # Declare number of vehicles\n",
    "\n",
    "# Declare sets (1...n)\n",
    "model.vehicle_set = pyo.RangeSet(1,model.n_vehicles) # Declare set of vehicles\n",
    "# have incosistent length of tech packages\n",
    "\n",
    "# Declare parameters\n",
    "model.vehicle_costs = pyo.Param(model.vehicle_set) # Declare cost param for each vehicle\n",
    "model.preference_parameters = pyo.Param() # utility\n",
    "model.og_utility = pyo.Param()\n",
    "model.market_size = pyo.Param()\n",
    "\n",
    "# Declare decision vars\n",
    "model.vehicle_prices = pyo.Var(model.vehicle_set, domain=pyo.NonNegativeReals, bounds=(0,100)) # Matching/indexed by set J, of size n_vehicles\n",
    "\n",
    "# Supplemental Functions\n",
    "def utility_rule(model,vehicle_id):\n",
    "    utilities = model.preference_parameters * model.vehicle_prices[vehicle_id]\n",
    "    return utilities\n",
    "\n",
    "def demand_rule(model,vehicle_id):\n",
    "    vehicle_demand = pyo.exp(model.utilities[vehicle_id]) / (sum(pyo.exp(model.utilities[i])for i in model.vehicle_set) + pyo.exp(model.og_utility)) * model.market_size\n",
    "    return vehicle_demand\n",
    "\n",
    "# Define intermediate vars\n",
    "model.utilities = pyo.Expression(model.vehicle_set, rule = utility_rule)  # Calculate utility\n",
    "model.vehicle_demand = pyo.Expression(model.vehicle_set, rule = demand_rule)   # Caluclate demand\n",
    "\n",
    "# Define objective\n",
    "def profit_rule(model):\n",
    "    profit = sum(model.vehicle_demand[vehicle_id]*(model.vehicle_prices[vehicle_id] - model.vehicle_costs[vehicle_id]) for vehicle_id in model.vehicle_set)\n",
    "    return profit\n",
    "\n",
    "model.obj = pyo.Objective(rule=profit_rule, sense=pyo.maximize)\n",
    "\n",
    "# Define instance\n",
    "dummy_vehicle_data = {None: {                     # none required entry\n",
    "    'n_vehicles': {None: 3},               # scalars must have none\n",
    "    'preference_parameters': {None: -0.1},           # pref param\n",
    "    'og_utility': {None: 0},              # outside good utility\n",
    "    'market_size': {None: 1},\n",
    "    'vehicle_costs': {1: 10, 2: 15, 3: 20}\n",
    "}}\n",
    "\n",
    "# Create an instance of the model\n",
    "instance = model.create_instance(dummy_vehicle_data)\n",
    "\n",
    "solver = pyo.SolverFactory('ipopt',executable='C:\\\\Ipopt\\\\bin\\\\ipopt.exe')\n",
    "results = solver.solve(instance,report_timing=True)\n",
    "print(results)\n",
    "\n",
    "# Access the value of the objective function\n",
    "print(\"Objective value:\", pyo.value(instance.obj))\n",
    "\n",
    "# Access the value of decision variables\n",
    "for vehicle_id in instance.vehicle_set:\n",
    "    print(f\"vehicle_prices[{vehicle_id}]:\", pyo.value(instance.vehicle_prices[vehicle_id]))\n"
   ]
  },
  {
   "cell_type": "markdown",
   "metadata": {},
   "source": [
    "### (c) Profit w/ Price, Demand, and GHG Constraint\n",
    "\n",
    "min: $\\pi = \\sum_{j \\in J} q_j (p_j - c_j )$\n",
    "\n",
    "wrt: $p_j  \\ \\forall j \\in J$\n",
    "\n",
    "st:  $ \\sum_{j \\in J} \\ ( g_j -t_j )* q_j \\leq 0$\n",
    "\n",
    "where: $v_j = \\beta_p * p_j$ \\\n",
    "$q_j = \\frac{\\exp(v_j)}{\\sum_{l \\in J}\\exp(v_l)+v_{og}}*m$"
   ]
  },
  {
   "cell_type": "code",
   "execution_count": 4,
   "metadata": {
    "ExecuteTime": {
     "end_time": "2024-02-16T15:53:44.226041100Z",
     "start_time": "2024-02-16T15:53:44.148811700Z"
    }
   },
   "outputs": [
    {
     "name": "stdout",
     "output_type": "stream",
     "text": [
      "\n",
      "Problem: \n",
      "- Lower bound: -inf\n",
      "  Upper bound: inf\n",
      "  Number of objectives: 1\n",
      "  Number of constraints: 1\n",
      "  Number of variables: 3\n",
      "  Sense: unknown\n",
      "Solver: \n",
      "- Status: ok\n",
      "  Message: Ipopt 3.11.1\\x3a Optimal Solution Found\n",
      "  Termination condition: optimal\n",
      "  Id: 0\n",
      "  Error rc: 0\n",
      "  Time: 0.042203426361083984\n",
      "Solution: \n",
      "- number of solutions: 0\n",
      "  number of solutions displayed: 0\n",
      "\n",
      "Profit: 2.127521500861694\n",
      "   Vehicle   Price  ghg_rate    Demand\n",
      "0        1  29.628         0  0.042611\n",
      "1        2  22.128       100  0.090207\n",
      "2        3  29.628       200  0.042611\n"
     ]
    }
   ],
   "source": [
    "model = pyo.AbstractModel() # declare model\n",
    "\n",
    "# Declare problem parameters (number of vehicles, tech pkgs, etc.)\n",
    "model.n_vehicles = pyo.Param(within=pyo.NonNegativeIntegers) # Declare number of vehicles\n",
    "\n",
    "# Declare sets (1...n)\n",
    "model.vehicle_set = pyo.RangeSet(1,model.n_vehicles) # Declare set of vehicles\n",
    "# have incosistent length of tech packages\n",
    "\n",
    "# Declare parameters\n",
    "model.vehicle_costs = pyo.Param(model.vehicle_set)        # Declare cost param for each vehicle\n",
    "model.ghgs = pyo.Param(model.vehicle_set)         # real ghgs\n",
    "model.target_ghgs = pyo.Param(model.vehicle_set)  # target ghgs\n",
    "model.preference_parameters = pyo.Param()                # utility\n",
    "model.og_utility = pyo.Param()                # outside good utility\n",
    "model.market_size = pyo.Param()               # market size\n",
    "\n",
    "# Declare decision vars\n",
    "model.vehicle_prices = pyo.Var(model.vehicle_set, domain=pyo.NonNegativeReals, bounds=(0,100)) # Matching/indexed by set J, of size n_vehicles\n",
    "\n",
    "# Supplemental Functions\n",
    "def utility_rule(model,vehicle_id):\n",
    "    utilities = model.preference_parameters * model.vehicle_prices[vehicle_id]\n",
    "    return utilities\n",
    "\n",
    "def demand_rule(model,vehicle_id):\n",
    "    vehicle_demand = pyo.exp(model.utilities[vehicle_id]) / (sum(pyo.exp(model.utilities[denom_v])for denom_v in model.vehicle_set) + pyo.exp(model.og_utility)) * model.market_size\n",
    "    return vehicle_demand\n",
    "\n",
    "def vehicle_profits_rule(model,vehicle_id):\n",
    "    vehicle_profits = model.vehicle_demand[vehicle_id]*(model.vehicle_prices[vehicle_id] - model.vehicle_costs[vehicle_id])\n",
    "    return vehicle_profits\n",
    "\n",
    "# Define intermediate vars\n",
    "model.utilities = pyo.Expression(model.vehicle_set, rule = utility_rule)         # Calculate utility\n",
    "model.vehicle_demand = pyo.Expression(model.vehicle_set, rule = demand_rule)              # Caluclate demand\n",
    "model.vehicle_profits = pyo.Expression(model.vehicle_set, rule = vehicle_profits_rule)   # Caluclate profits of each veh\n",
    "\n",
    "# Define objective\n",
    "def profit_rule(model):\n",
    "    pi = sum(model.vehicle_profits[vehicle_id] for vehicle_id in model.vehicle_set)\n",
    "    return pi\n",
    "\n",
    "def ghg_rule(model):\n",
    "    swa_ghg = sum(model.ghgs[vehicle_id]*model.vehicle_demand[vehicle_id] for vehicle_id in model.vehicle_set)\n",
    "    swa_target = sum(model.target_ghgs[vehicle_id]*model.vehicle_demand[vehicle_id] for vehicle_id in model.vehicle_set)\n",
    "    return swa_ghg  - swa_target <= 0\n",
    "\n",
    "# Setup optimization\n",
    "model.obj = pyo.Objective(rule=profit_rule, sense=pyo.maximize)\n",
    "model.ghg_con = pyo.Constraint(rule=ghg_rule)\n",
    "\n",
    "# Define instance\n",
    "dummy_vehicle_data = {None: {                           # none required entry\n",
    "    'n_vehicles': {None: 3},                  # scalars must have none\n",
    "    'preference_parameters': {None: -0.1},           # pref param\n",
    "    'og_utility': {None: 0},              \n",
    "    'market_size': {None: 1},\n",
    "    'vehicle_costs': {1: 20, 2: 10, 3: 15},\n",
    "    'ghgs': {1: 0, 2: 100, 3: 200},\n",
    "    'target_ghgs': {1: 100, 2: 100, 3: 100}\n",
    "}}\n",
    "\n",
    "# Solve instance\n",
    "instance = model.create_instance(dummy_vehicle_data)\n",
    "solver = pyo.SolverFactory('ipopt',executable='C:\\\\Ipopt\\\\bin\\\\ipopt.exe')\n",
    "results = solver.solve(instance) #,report_timing=True)\n",
    "print(results)\n",
    "\n",
    "# Print results\n",
    "print(\"Profit:\", pyo.value(instance.obj))\n",
    "# instance.vehicle_prices.pprint()\n",
    "results_list = []\n",
    "for vehicle_id in instance.vehicle_set:\n",
    "    price = pyo.value(instance.vehicle_prices[vehicle_id])\n",
    "    ghg_rate = instance.ghgs[vehicle_id]\n",
    "    vehicle_demand = pyo.value(instance.vehicle_demand[vehicle_id])\n",
    "    results_list.append({\"Vehicle\": vehicle_id, \"Price\": price, \"ghg_rate\": ghg_rate, \"Demand\": vehicle_demand})\n",
    "results_df = pd.DataFrame(results_list)\n",
    "results_df['Price'] = results_df['Price'].round(3)\n",
    "print(results_df)\n"
   ]
  },
  {
   "cell_type": "markdown",
   "metadata": {},
   "source": [
    "## 2: Design Variable Examples\n",
    "\n",
    "These get a little more tricky, since having design with variable technology packages for each vehicle $x_{ij} \\ \\forall i \\in I_j \\ \\forall j \\in J$ requires putting sets within a set, aka sparse index sets. See [the section Sparces https://pyomo.readthedocs.io/en/stable/pyomo_modeling_components/Sets.html for ](https://pyomo.readthedocs.io/en/stable/pyomo_modeling_components/Sets.html) for additional detail. \n",
    "\n",
    "Since a nested dictionary is needed to create a concrete instance with the sparce index set, I am going to define custom class datastructres to store the dictionaries & populate dummy dummy_vehicle_data"
   ]
  },
  {
   "cell_type": "markdown",
   "metadata": {},
   "source": [
    "### (a) Custom Dataclasses"
   ]
  },
  {
   "cell_type": "code",
   "execution_count": 5,
   "metadata": {
    "ExecuteTime": {
     "end_time": "2024-02-16T15:53:44.239986700Z",
     "start_time": "2024-02-16T15:53:44.219427600Z"
    }
   },
   "outputs": [],
   "source": [
    "# Generate classes to store dummy_vehicle_data\n",
    "\n",
    "@dataclass      # decorator avoids having to define properties in definition\n",
    "class Technology:\n",
    "    technology_id: str\n",
    "    cost: float\n",
    "    ghg_rate: float\n",
    "\n",
    "@dataclass\n",
    "class Vehicle:\n",
    "    vehicle_id: str\n",
    "    technologies: list[Technology]\n",
    "    price: float\n",
    "    target_ghg_rate: float\n",
    "    # cost: Optional(float)  # will have to import optional\n",
    "\n",
    "# @ dataclass\n",
    "# class Automaker:\n",
    "#     automaker_id: str\n",
    "#     vehicles: list[Vehicle]"
   ]
  },
  {
   "cell_type": "code",
   "execution_count": 6,
   "metadata": {
    "ExecuteTime": {
     "end_time": "2024-02-16T15:53:44.282840400Z",
     "start_time": "2024-02-16T15:53:44.236994300Z"
    }
   },
   "outputs": [
    {
     "data": {
      "text/plain": [
       "[Vehicle(vehicle_id='EV', technologies=[Technology(technology_id='A', cost=20, ghg_rate=0)], price=20, target_ghg_rate=150),\n",
       " Vehicle(vehicle_id='ICE1', technologies=[Technology(technology_id='A', cost=10, ghg_rate=200), Technology(technology_id='B', cost=15, ghg_rate=150)], price=15, target_ghg_rate=150),\n",
       " Vehicle(vehicle_id='ICE2', technologies=[Technology(technology_id='A', cost=15, ghg_rate=250), Technology(technology_id='B', cost=20, ghg_rate=200), Technology(technology_id='C', cost=25, ghg_rate=150)], price=25, target_ghg_rate=150)]"
      ]
     },
     "execution_count": 6,
     "metadata": {},
     "output_type": "execute_result"
    }
   ],
   "source": [
    "# Generate dummy dummy_vehicle_data (asymmetrical to make fun)\n",
    "\n",
    "vehicle_ids = [\"EV\", \"ICE1\", \"ICE2\"]\n",
    "technology_ids = \"ABC\"\n",
    "cost_constant = 10\n",
    "ghg_constant = 3000\n",
    "\n",
    "vehicles = []\n",
    "for i, vehicle_id in enumerate(vehicle_ids):\n",
    "    technologies = []\n",
    "    for j,technology_id in enumerate(technology_ids[:i+1]):\n",
    "        # technology_cost = cost_constant+j*5+(2-i)*5 + i*5\n",
    "        if vehicle_id == \"EV\":\n",
    "            technology_cost = 20\n",
    "            technology_ghg_rate = 0\n",
    "        else:\n",
    "            technology_cost = cost_constant + j*5 + i*5 - 5\n",
    "            technology_ghg_rate = 150 + 50*i - 50*j # (ghg_constant*i / technology_cost) / 2\n",
    "        techonology = Technology(technology_id=technology_id, cost=technology_cost, ghg_rate = technology_ghg_rate)\n",
    "        technologies.append(techonology)\n",
    "    vehicle_price = technology_cost       # Highest tech cost\n",
    "    vehicle_target_ghg_rate = 150\n",
    "    vehicle = Vehicle(vehicle_id=vehicle_id, technologies=technologies, price=vehicle_price, target_ghg_rate=vehicle_target_ghg_rate)\n",
    "    vehicles.append(vehicle)\n",
    "vehicles"
   ]
  },
  {
   "cell_type": "markdown",
   "metadata": {},
   "source": [
    "### (b) Profit w/ Design Only & Classes & No Demand\n",
    "\n",
    "min: $\\pi = \\sum_{j \\in J} (p_j - c_j )$\n",
    "\n",
    "wrt: $ x_{ij}  \\ \\forall i \\in I_j \\ \\forall j \\in J$\n",
    "\n",
    "st:  $ 1 - \\sum_{i \\in I_j} \\ x_{ij} = 0 \\ \\forall j \\in J$\n",
    "\n",
    "where: $ c_j = \\sum_{i \\in I_j}  \\omega_{ij} * x_{ij}$\n"
   ]
  },
  {
   "cell_type": "code",
   "execution_count": 7,
   "metadata": {
    "ExecuteTime": {
     "end_time": "2024-02-16T15:53:44.286365600Z",
     "start_time": "2024-02-16T15:53:44.246959900Z"
    }
   },
   "outputs": [
    {
     "data": {
      "text/plain": [
       "{None: {'vehicle_set': {None: ['EV', 'ICE1', 'ICE2']},\n",
       "  'technology_set': {'EV': ['A'], 'ICE1': ['A', 'B'], 'ICE2': ['A', 'B', 'C']},\n",
       "  'technology_costs': {('EV', 'A'): 20,\n",
       "   ('ICE1', 'A'): 10,\n",
       "   ('ICE1', 'B'): 15,\n",
       "   ('ICE2', 'A'): 15,\n",
       "   ('ICE2', 'B'): 20,\n",
       "   ('ICE2', 'C'): 25},\n",
       "  'vehicle_prices': {'EV': 20, 'ICE1': 15, 'ICE2': 25}}}"
      ]
     },
     "execution_count": 7,
     "metadata": {},
     "output_type": "execute_result"
    }
   ],
   "source": [
    "# Define dummy_vehicle_data dict for instance\n",
    "dummy_vehicle_data = {None: {\n",
    "    'vehicle_set': {None: [vehicle.vehicle_id for vehicle in vehicles]},                            \n",
    "    'technology_set': {vehicle.vehicle_id: [technology.technology_id for technology in vehicle.technologies] for vehicle in vehicles},           # index tech from vehicle set\n",
    "    'technology_costs': {(vehicle.vehicle_id, technology.technology_id): technology.cost for vehicle in vehicles for technology in vehicle.technologies},\n",
    "    'vehicle_prices': {vehicle.vehicle_id: vehicle.price for vehicle in vehicles}\n",
    "}}\n",
    "\n",
    "dummy_vehicle_data"
   ]
  },
  {
   "cell_type": "code",
   "execution_count": 8,
   "metadata": {
    "ExecuteTime": {
     "end_time": "2024-02-16T15:53:44.342176Z",
     "start_time": "2024-02-16T15:53:44.267890100Z"
    }
   },
   "outputs": [
    {
     "name": "stdout",
     "output_type": "stream",
     "text": [
      "\n",
      "Problem: \n",
      "- Lower bound: -inf\n",
      "  Upper bound: inf\n",
      "  Number of objectives: 1\n",
      "  Number of constraints: 3\n",
      "  Number of variables: 6\n",
      "  Sense: unknown\n",
      "Solver: \n",
      "- Status: ok\n",
      "  Message: Ipopt 3.11.1\\x3a Optimal Solution Found\n",
      "  Termination condition: optimal\n",
      "  Id: 0\n",
      "  Error rc: 0\n",
      "  Time: 0.04681658744812012\n",
      "Solution: \n",
      "- number of solutions: 0\n",
      "  number of solutions displayed: 0\n"
     ]
    }
   ],
   "source": [
    "# Build model\n",
    "model = pyo.AbstractModel() # Declare model\n",
    "\n",
    "# Declare problem parameters & sets\n",
    "model.vehicle_set = pyo.Set()                                        # Set of vehicles\n",
    "model.technology_set = pyo.Set(model.vehicle_set)                   # Set indexed by vehicle set\n",
    "\n",
    "def init_vehicle_technology_set(model):     # initilize each technology set for each vehicle \n",
    "    return ((vehicle_id, technology_id) for vehicle_id in model.vehicle_set for technology_id in model.technology_set[vehicle_id])\n",
    "model.vehicle_technology_set = pyo.Set(dimen=2, initialize=init_vehicle_technology_set)\n",
    "\n",
    "model.technology_costs = pyo.Param(model.vehicle_technology_set, within=pyo.NonNegativeReals)                        # Cost params (for each vehicle)\n",
    "# model.vehicle_costs = pyo.Param(model.vehicle_set, within=pyo.NonNegativeReals)                                      # Vehicle vehicle_costs\n",
    "model.vehicle_prices = pyo.Param(model.vehicle_set, within=pyo.NonNegativeReals)                                             # Price params (for each vehicle)\n",
    "\n",
    "# Declare decision vars\n",
    "model.var_vehicle_technologies = pyo.Var(model.vehicle_technology_set, domain=pyo.NonNegativeReals, bounds=(0,1))   # Indexed by i,j ; technology_set within vehicles_set\n",
    "\n",
    "# Define objective\n",
    "def profit_rule(model):\n",
    "    profit = sum((model.vehicle_prices[vehicle_id] - sum(model.technology_costs[(vehicle_id, technology_id)] * model.var_vehicle_technologies[(vehicle_id, technology_id)]\n",
    "                                                  for technology_id in model.technology_set[vehicle_id])) for vehicle_id in model.vehicle_set)\n",
    "    return profit\n",
    "\n",
    "\n",
    "model.obj = pyo.Objective(rule=profit_rule, sense=pyo.maximize)\n",
    "\n",
    "# Define constraint\n",
    "def design_rule(model):\n",
    "    return [1 - sum(model.var_vehicle_technologies[(vehicle_id, technology_id)] for technology_id in model.technology_set[vehicle_id]) == 0 for vehicle_id in model.vehicle_set]\n",
    "\n",
    "model.design_rule = pyo.ConstraintList(rule=design_rule)\n",
    "\n",
    "# Create an instance of the model\n",
    "instance = model.create_instance(dummy_vehicle_data)\n",
    "\n",
    "solver = pyo.SolverFactory('ipopt',executable='C:\\\\Ipopt\\\\bin\\\\ipopt.exe')\n",
    "results = solver.solve(instance)\n",
    "print(results)\n"
   ]
  },
  {
   "cell_type": "code",
   "execution_count": 9,
   "metadata": {
    "ExecuteTime": {
     "end_time": "2024-02-16T15:53:44.359119400Z",
     "start_time": "2024-02-16T15:53:44.331213900Z"
    }
   },
   "outputs": [
    {
     "name": "stdout",
     "output_type": "stream",
     "text": [
      "Profit: 14.999999997614998\n",
      "var_vehicle_technologies : Size=6, Index=vehicle_technology_set\n",
      "    Key           : Lower : Value                  : Upper : Fixed : Stale : Domain\n",
      "      ('EV', 'A') :     0 :                    1.0 :     1 : False : False : NonNegativeReals\n",
      "    ('ICE1', 'A') :     0 :                    1.0 :     1 : False : False : NonNegativeReals\n",
      "    ('ICE1', 'B') :     0 :                    0.0 :     1 : False : False : NonNegativeReals\n",
      "    ('ICE2', 'A') :     0 :                    1.0 :     1 : False : False : NonNegativeReals\n",
      "    ('ICE2', 'B') :     0 : 1.1925015727091593e-10 :     1 : False : False : NonNegativeReals\n",
      "    ('ICE2', 'C') :     0 :                    0.0 :     1 : False : False : NonNegativeReals\n"
     ]
    }
   ],
   "source": [
    "# Print results\n",
    "print(\"Profit:\", pyo.value(instance.obj))\n",
    "instance.var_vehicle_technologies.pprint()"
   ]
  },
  {
   "cell_type": "markdown",
   "metadata": {},
   "source": [
    "### (c) Adding Demand & GHG Constraint\n",
    "\n",
    "min: $\\pi = \\sum_{j \\in J} (p_j - c_j )$\n",
    "\n",
    "wrt: $ x_j  \\ \\forall j \\in J$\n",
    "\n",
    "st:  $ 1 - \\sum_{i \\in I_j} \\ x_{ij} = 0 \\ \\forall j \\in J$ \\\n",
    "$ \\sum_{j \\in J} \\ ( g_j -t_j )* q_j \\leq 0$\n",
    "\n",
    "where: $ c_j = \\sum_{i \\in I_j}  \\omega_{ij} * x_{ij}$ \\\n",
    "$v_j = \\beta_p * p_j$ \\\n",
    "$q_j = \\frac{\\exp(v_j)}{\\sum_{l \\in J}\\exp(v_l)+v_{og}}*m$\n",
    "\n",
    "\n",
    "min: $\\pi = \\sum_{j \\in J} q_j (p_j - c_j )$\n",
    "\n",
    "wrt: $p_j  \\ \\forall j \\in J$\n",
    "\n",
    "st:  \n",
    "\n",
    "where: "
   ]
  },
  {
   "cell_type": "code",
   "execution_count": 10,
   "metadata": {
    "ExecuteTime": {
     "end_time": "2024-02-16T15:53:44.412271400Z",
     "start_time": "2024-02-16T15:53:44.350149300Z"
    }
   },
   "outputs": [
    {
     "data": {
      "text/plain": [
       "{None: {'vehicle_set': {None: ['EV', 'ICE1', 'ICE2']},\n",
       "  'technology_set': {'EV': ['A'], 'ICE1': ['A', 'B'], 'ICE2': ['A', 'B', 'C']},\n",
       "  'technology_costs': {('EV', 'A'): 20,\n",
       "   ('ICE1', 'A'): 10,\n",
       "   ('ICE1', 'B'): 15,\n",
       "   ('ICE2', 'A'): 15,\n",
       "   ('ICE2', 'B'): 20,\n",
       "   ('ICE2', 'C'): 25},\n",
       "  'technology_ghg_rates': {('EV', 'A'): 0,\n",
       "   ('ICE1', 'A'): 200,\n",
       "   ('ICE1', 'B'): 150,\n",
       "   ('ICE2', 'A'): 250,\n",
       "   ('ICE2', 'B'): 200,\n",
       "   ('ICE2', 'C'): 150},\n",
       "  'vehicle_target_ghg_rates': {'EV': 150, 'ICE1': 150, 'ICE2': 150},\n",
       "  'vehicle_prices': {'EV': 20, 'ICE1': 15, 'ICE2': 25},\n",
       "  'preference_parameters': {None: -0.1},\n",
       "  'og_utility': {None: 0},\n",
       "  'market_size': {None: 1}}}"
      ]
     },
     "execution_count": 10,
     "metadata": {},
     "output_type": "execute_result"
    }
   ],
   "source": [
    "# Define dummy_vehicle_data dict for instance\n",
    "dummy_vehicle_data = {None: {\n",
    "    'vehicle_set': {None: [vehicle.vehicle_id for vehicle in vehicles]},                            \n",
    "    'technology_set': {vehicle.vehicle_id: [technology.technology_id for technology in vehicle.technologies] for vehicle in vehicles},           # index tech from vehicle set\n",
    "    'technology_costs': {(vehicle.vehicle_id, technology.technology_id): technology.cost for vehicle in vehicles for technology in vehicle.technologies},\n",
    "    'technology_ghg_rates': {(vehicle.vehicle_id, technology.technology_id): technology.ghg_rate for vehicle in vehicles for technology in vehicle.technologies},\n",
    "    'vehicle_target_ghg_rates' : {vehicle.vehicle_id: vehicle.target_ghg_rate for vehicle in vehicles},\n",
    "    'vehicle_prices': {vehicle.vehicle_id: vehicle.price for vehicle in vehicles},\n",
    "    'preference_parameters': {None: -0.1},\n",
    "    'og_utility': {None: 0},\n",
    "    'market_size' : {None: 1}\n",
    "}}\n",
    "dummy_vehicle_data"
   ]
  },
  {
   "cell_type": "code",
   "execution_count": 11,
   "metadata": {
    "ExecuteTime": {
     "end_time": "2024-02-16T15:53:44.457122800Z",
     "start_time": "2024-02-16T15:53:44.362241700Z"
    }
   },
   "outputs": [
    {
     "name": "stdout",
     "output_type": "stream",
     "text": [
      "\n",
      "Problem: \n",
      "- Lower bound: -inf\n",
      "  Upper bound: inf\n",
      "  Number of objectives: 1\n",
      "  Number of constraints: 4\n",
      "  Number of variables: 6\n",
      "  Sense: unknown\n",
      "Solver: \n",
      "- Status: ok\n",
      "  Message: Ipopt 3.11.1\\x3a Optimal Solution Found\n",
      "  Termination condition: optimal\n",
      "  Id: 0\n",
      "  Error rc: 0\n",
      "  Time: 0.045871734619140625\n",
      "Solution: \n",
      "- number of solutions: 0\n",
      "  number of solutions displayed: 0\n"
     ]
    }
   ],
   "source": [
    "# Build model\n",
    "model = pyo.AbstractModel()\n",
    "\n",
    "# Define Sets\n",
    "model.vehicle_set = pyo.Set()\n",
    "model.technology_set = pyo.Set(model.vehicle_set)\n",
    "\n",
    "# Initialize technology set\n",
    "def init_vehicle_technology_set (model):\n",
    "    return ((vehicle_id, technology_id) for vehicle_id in model.vehicle_set for technology_id in model.technology_set[vehicle_id])\n",
    "\n",
    "model.vehicle_technology_set = pyo.Set(dimen=2, initialize=init_vehicle_technology_set)\n",
    "\n",
    "# Define parameters\n",
    "model.technology_costs = pyo.Param(model.vehicle_technology_set, within=pyo.NonNegativeReals)\n",
    "model.technology_ghg_rates = pyo.Param(model.vehicle_technology_set, within=pyo.NonNegativeReals)\n",
    "model.vehicle_prices = pyo.Param(model.vehicle_set, within=pyo.NonNegativeReals)\n",
    "model.vehicle_target_ghg_rates = pyo.Param(model.vehicle_set, within=pyo.NonNegativeReals)\n",
    "model.preference_parameters = pyo.Param() # utility\n",
    "model.og_utility = pyo.Param()\n",
    "model.market_size = pyo.Param()\n",
    "\n",
    "# Define decision variables\n",
    "model.var_vehicle_technologies = pyo.Var(model.vehicle_technology_set, domain=pyo.NonNegativeReals, bounds=(0,1))\n",
    "\n",
    "# Supplementary rules\n",
    "def vehicle_cost_rule(model,vehicle_id):\n",
    "    vehicle_cost = sum(model.technology_costs[(vehicle_id, technology_id)] * model.var_vehicle_technologies[(vehicle_id, technology_id)]\n",
    "                                                   for technology_id in model.technology_set[vehicle_id])\n",
    "    return vehicle_cost\n",
    "\n",
    "def vehicle_ghg_rate_rule(model,vehicle_id):\n",
    "    vehicle_ghg_rate = sum(model.technology_ghg_rates[(vehicle_id, technology_id)] * model.var_vehicle_technologies[(vehicle_id, technology_id)]\n",
    "                                                   for technology_id in model.technology_set[vehicle_id])\n",
    "    return vehicle_ghg_rate\n",
    "\n",
    "def vehicle_utility_rule(model,vehicle_id):\n",
    "    utility = model.preference_parameters * model.vehicle_prices[vehicle_id]\n",
    "    return utility\n",
    "\n",
    "def vehicle_demand_rule(model,vehicle_id):\n",
    "    vehicle_demand = pyo.exp(model.vehicle_utilities[vehicle_id]) / (sum(pyo.exp(model.vehicle_utilities[vehicle_id])for vehicle_id in model.vehicle_set) + pyo.exp(model.og_utility))\n",
    "    return vehicle_demand\n",
    "\n",
    "# Define intermediate vars\n",
    "model.vehicle_costs = pyo.Expression(model.vehicle_set, rule = vehicle_cost_rule)\n",
    "model.vehicle_ghg_rates = pyo.Expression(model.vehicle_set, rule = vehicle_ghg_rate_rule)\n",
    "model.vehicle_utilities = pyo.Expression(model.vehicle_set, rule = vehicle_utility_rule)  # Calculate utility\n",
    "model.vehicle_demands = pyo.Expression(model.vehicle_set, rule = vehicle_demand_rule)   # Caluclate demand\n",
    "\n",
    "# # Define objective\n",
    "def profit_rule(model):\n",
    "    profit = sum((model.vehicle_prices[vehicle_id] - model.vehicle_costs[vehicle_id]) * model.vehicle_demands[vehicle_id] for vehicle_id in model.vehicle_set)\n",
    "    return profit\n",
    "\n",
    "model.obj = pyo.Objective(rule=profit_rule, sense=pyo.maximize)\n",
    "\n",
    "# Define constraints\n",
    "def design_rules(model):\n",
    "    return [1 - sum(model.var_vehicle_technologies[(vehicle_id, technology_id)] for technology_id in model.technology_set[vehicle_id]) == 0 for vehicle_id in model.vehicle_set]\n",
    "\n",
    "def swa_ghg_rule(model):\n",
    "    total_sales = sum(model.vehicle_demands[vehicle_id] for vehicle_id in model.vehicle_set)\n",
    "    swa_ghg_rate = sum(model.vehicle_ghg_rates[vehicle_id]*model.vehicle_demands[vehicle_id] for vehicle_id in model.vehicle_set) / total_sales\n",
    "    swa_target_rate = sum(model.vehicle_target_ghg_rates[vehicle_id]*model.vehicle_demands[vehicle_id] for vehicle_id in model.vehicle_set) / total_sales\n",
    "    return swa_ghg_rate  - swa_target_rate <= 0\n",
    "\n",
    "model.con_design_rule = pyo.ConstraintList(rule=design_rules)\n",
    "model.con_swa_ghg_rule = pyo.Constraint(rule=swa_ghg_rule)\n",
    "\n",
    "# Create an instance of the model\n",
    "instance = model.create_instance(dummy_vehicle_data)\n",
    "\n",
    "solver = pyo.SolverFactory('ipopt',executable='C:\\\\Ipopt\\\\bin\\\\ipopt.exe')\n",
    "results = solver.solve(instance)\n",
    "print(results)"
   ]
  },
  {
   "cell_type": "code",
   "execution_count": 12,
   "metadata": {
    "ExecuteTime": {
     "end_time": "2024-02-16T15:53:44.459115Z",
     "start_time": "2024-02-16T15:53:44.447155100Z"
    }
   },
   "outputs": [
    {
     "name": "stdout",
     "output_type": "stream",
     "text": [
      "var_vehicle_technologies : Size=6, Index=vehicle_technology_set\n",
      "    Key           : Lower : Value                 : Upper : Fixed : Stale : Domain\n",
      "      ('EV', 'A') :     0 :                   1.0 :     1 : False : False : NonNegativeReals\n",
      "    ('ICE1', 'A') :     0 :                   1.0 :     1 : False : False : NonNegativeReals\n",
      "    ('ICE1', 'B') :     0 :                   0.0 :     1 : False : False : NonNegativeReals\n",
      "    ('ICE2', 'A') :     0 :    0.9999999956639873 :     1 : False : False : NonNegativeReals\n",
      "    ('ICE2', 'B') :     0 : 8.408556031030956e-09 :     1 : False : False : NonNegativeReals\n",
      "    ('ICE2', 'C') :     0 :                   0.0 :     1 : False : False : NonNegativeReals\n",
      "Profit: 1.3442783550259154\n",
      "  Vehicle  Price    GHG Rate    Demand\n",
      "0      EV     20    0.000000  0.093947\n",
      "1    ICE1     15  200.000000  0.154892\n",
      "2    ICE2     25  250.000001  0.056982\n",
      "SWA GHG Rate:  147.87700912895988\n"
     ]
    }
   ],
   "source": [
    "instance.var_vehicle_technologies.pprint()\n",
    "\n",
    "# Print results\n",
    "print(\"Profit:\", pyo.value(instance.obj))\n",
    "results_list = []\n",
    "for vehicle_id in instance.vehicle_set:\n",
    "    price = pyo.value(instance.vehicle_prices[vehicle_id])\n",
    "    vehicle_costs = pyo.value(instance.vehicle_costs[vehicle_id])\n",
    "    ghg_rate = pyo.value(instance.vehicle_ghg_rates[vehicle_id])\n",
    "    vehicle_demand = pyo.value(instance.vehicle_demands[vehicle_id])\n",
    "    results_list.append({\"Vehicle\": vehicle_id, \"Price\": price, \"GHG Rate\": ghg_rate, \"Demand\": vehicle_demand})\n",
    "results_df = pd.DataFrame(results_list)\n",
    "results_df['Price'] = results_df['Price'].round(3)\n",
    "print(results_df)\n",
    "\n",
    "results_swa_ghg = sum(pyo.value(instance.vehicle_ghg_rates[vehicle_id])*pyo.value(instance.vehicle_demands[vehicle_id]) for vehicle_id in instance.vehicle_set) \\\n",
    "    / sum(pyo.value(instance.vehicle_demands[vehicle_id])for vehicle_id in instance.vehicle_set)\n",
    "print('SWA GHG Rate: ', results_swa_ghg)"
   ]
  },
  {
   "cell_type": "markdown",
   "metadata": {},
   "source": [
    "## 3: Price & Design Variable Examples\n",
    "\n",
    "[All together now!](https://www.youtube.com/watch?v=73lj5qJbrms&t=45s)"
   ]
  },
  {
   "cell_type": "markdown",
   "metadata": {},
   "source": [
    "### (a) Profit w/ Design & Price\n",
    "\n",
    "min: $\\pi = \\sum_{j \\in J} q_j (p_j - c_j )$\n",
    "\n",
    "wrt: $p_j, x_{ij}  \\ \\ \\forall i \\in I_j \\ \\forall j \\in J$\n",
    "\n",
    "st:  $ \\sum_{j \\in J} \\ ( g_j -t_j )* q_j \\leq 0$\n",
    "\n",
    "where: $v_j = \\beta_p * p_j$ \\\n",
    "$g_j = \\sum_{i \\in I_j} \\omega_{ij} * x_{ij}$ \\\n",
    "$q_j = \\frac{\\exp(v_j)}{\\sum_{i \\in J}\\exp(v_i)+v_{og}}*m$ \\\n",
    "$ c_j = \\sum_{i \\in I} \\omega_{ij} * x_{ij}$"
   ]
  },
  {
   "cell_type": "code",
   "execution_count": 13,
   "metadata": {
    "ExecuteTime": {
     "end_time": "2024-02-16T15:53:44.509661300Z",
     "start_time": "2024-02-16T15:53:44.458119500Z"
    }
   },
   "outputs": [],
   "source": [
    "@dataclass\n",
    "class Technology:\n",
    "    technology_id: str\n",
    "    cost: float\n",
    "    ghg_rate: float\n",
    "\n",
    "@dataclass\n",
    "class Vehicle:\n",
    "    vehicle_id: str\n",
    "    technologies: list[Technology]\n",
    "    target_ghg_rate: float"
   ]
  },
  {
   "cell_type": "code",
   "execution_count": 14,
   "metadata": {
    "ExecuteTime": {
     "end_time": "2024-02-16T15:53:44.512652200Z",
     "start_time": "2024-02-16T15:53:44.478158600Z"
    }
   },
   "outputs": [
    {
     "data": {
      "text/plain": [
       "[Vehicle(vehicle_id='EV', technologies=[Technology(technology_id='Base', cost=20, ghg_rate=0)], target_ghg_rate=150),\n",
       " Vehicle(vehicle_id='ICE_1', technologies=[Technology(technology_id='Base', cost=10, ghg_rate=200), Technology(technology_id='Upgrade_1', cost=15, ghg_rate=150)], target_ghg_rate=150),\n",
       " Vehicle(vehicle_id='ICE_2', technologies=[Technology(technology_id='Base', cost=15, ghg_rate=250), Technology(technology_id='Upgrade_1', cost=20, ghg_rate=200), Technology(technology_id='Upgrade_1', cost=25, ghg_rate=150)], target_ghg_rate=150)]"
      ]
     },
     "execution_count": 14,
     "metadata": {},
     "output_type": "execute_result"
    }
   ],
   "source": [
    "# Generate dummy dummy_vehicle_data (asymmetrical to make fun)\n",
    "vehicle_ids = [\"EV\", \"ICE_1\", \"ICE_2\"]\n",
    "technology_ids = [\"Base\",\"Upgrade_1\",\"Upgrade_1\"]\n",
    "cost_constant = 10\n",
    "ghg_constant = 3000\n",
    "\n",
    "vehicles = []\n",
    "for i, vehicle_id in enumerate(vehicle_ids):\n",
    "    technologies = []\n",
    "    for j,technology_id in enumerate(technology_ids[:i+1]):\n",
    "        # technology_cost = cost_constant+j*5+(2-i)*5 + i*5\n",
    "        if vehicle_id == \"EV\":\n",
    "            technology_cost = 20\n",
    "            technology_ghg_rate = 0\n",
    "        else:\n",
    "            technology_cost = cost_constant + j*5 + i*5 - 5\n",
    "            technology_ghg_rate = 150 + 50*i - 50*j # (ghg_constant*i / technology_cost) / 2\n",
    "        techonology = Technology(technology_id=technology_id, cost=technology_cost, ghg_rate = technology_ghg_rate)\n",
    "        technologies.append(techonology)\n",
    "    vehicle_target_ghg_rate = 150\n",
    "    vehicle = Vehicle(vehicle_id=vehicle_id, technologies=technologies, target_ghg_rate=vehicle_target_ghg_rate)\n",
    "    vehicles.append(vehicle)\n",
    "vehicles"
   ]
  },
  {
   "cell_type": "code",
   "execution_count": 15,
   "metadata": {
    "ExecuteTime": {
     "end_time": "2024-02-16T15:53:44.558101600Z",
     "start_time": "2024-02-16T15:53:44.492718300Z"
    }
   },
   "outputs": [
    {
     "data": {
      "text/plain": [
       "{None: {'vehicle_set': {None: ['EV', 'ICE_1', 'ICE_2']},\n",
       "  'technology_set': {'EV': ['Base'],\n",
       "   'ICE_1': ['Base', 'Upgrade_1'],\n",
       "   'ICE_2': ['Base', 'Upgrade_1', 'Upgrade_1']},\n",
       "  'technology_costs': {('EV', 'Base'): 20,\n",
       "   ('ICE_1', 'Base'): 10,\n",
       "   ('ICE_1', 'Upgrade_1'): 15,\n",
       "   ('ICE_2', 'Base'): 15,\n",
       "   ('ICE_2', 'Upgrade_1'): 25},\n",
       "  'technology_ghg_rates': {('EV', 'Base'): 0,\n",
       "   ('ICE_1', 'Base'): 200,\n",
       "   ('ICE_1', 'Upgrade_1'): 150,\n",
       "   ('ICE_2', 'Base'): 250,\n",
       "   ('ICE_2', 'Upgrade_1'): 150},\n",
       "  'vehicle_target_ghg_rates': {'EV': 150, 'ICE_1': 150, 'ICE_2': 150},\n",
       "  'preference_parameters': {None: -0.1},\n",
       "  'og_utility': {None: 0},\n",
       "  'market_size': {None: 1}}}"
      ]
     },
     "execution_count": 15,
     "metadata": {},
     "output_type": "execute_result"
    }
   ],
   "source": [
    "# Define dummy_vehicle_data dict for instance\n",
    "dummy_vehicle_data = {None: {\n",
    "    'vehicle_set': {None: [vehicle.vehicle_id for vehicle in vehicles]},                            \n",
    "    'technology_set': {vehicle.vehicle_id: [technology.technology_id for technology in vehicle.technologies] for vehicle in vehicles},           # index tech from vehicle set\n",
    "    'technology_costs': {(vehicle.vehicle_id, technology.technology_id): technology.cost for vehicle in vehicles for technology in vehicle.technologies},\n",
    "    'technology_ghg_rates': {(vehicle.vehicle_id, technology.technology_id): technology.ghg_rate for vehicle in vehicles for technology in vehicle.technologies},\n",
    "    'vehicle_target_ghg_rates' : {vehicle.vehicle_id: vehicle.target_ghg_rate for vehicle in vehicles},\n",
    "    'preference_parameters': {None: -0.1},\n",
    "    'og_utility': {None: 0},\n",
    "    'market_size' : {None: 1}\n",
    "}}\n",
    "dummy_vehicle_data"
   ]
  },
  {
   "cell_type": "code",
   "execution_count": 16,
   "metadata": {
    "ExecuteTime": {
     "end_time": "2024-02-16T15:53:45.625992600Z",
     "start_time": "2024-02-16T15:53:44.507667700Z"
    }
   },
   "outputs": [
    {
     "data": {
      "image/png": "[encoded data removed]",
      "text/plain": [
       "<Figure size 640x480 with 1 Axes>"
      ]
     },
     "metadata": {},
     "output_type": "display_data"
    }
   ],
   "source": [
    "# Lets plot the cost hull\n",
    "for vehicle_id in dummy_vehicle_data[None]['vehicle_set'][None]:\n",
    "    costs = [dummy_vehicle_data[None]['technology_costs'][(vehicle_id, tech)] for tech in dummy_vehicle_data[None]['technology_set'][vehicle_id]]\n",
    "    ghg_rates = [dummy_vehicle_data[None]['technology_ghg_rates'][(vehicle_id, tech)] for tech in dummy_vehicle_data[None]['technology_set'][vehicle_id]]\n",
    "    \n",
    "    # Connect points via a line\n",
    "    plt.plot(ghg_rates, costs, label=f'{vehicle_id}', marker='o')\n",
    "\n",
    "plt.axvline(x=150, color='r', linestyle='--', label=f'Target GHG Rate')\n",
    "\n",
    "# Add labels and legend\n",
    "plt.xlabel('GHG Rate (g/mi)')\n",
    "plt.ylabel('Cost ($k)')\n",
    "plt.legend()\n",
    "plt.title('Vehicle Cost Hulls')\n",
    "plt.grid(True)\n",
    "plt.show()"
   ]
  },
  {
   "cell_type": "code",
   "execution_count": 17,
   "metadata": {
    "ExecuteTime": {
     "end_time": "2024-02-16T15:53:45.763133300Z",
     "start_time": "2024-02-16T15:53:45.622006100Z"
    }
   },
   "outputs": [
    {
     "name": "stdout",
     "output_type": "stream",
     "text": [
      "WARNING: Element Upgrade_1 already exists in Set technology_set[ICE_2]; no\n",
      "action taken\n",
      "\n",
      "Problem: \n",
      "- Lower bound: -inf\n",
      "  Upper bound: inf\n",
      "  Number of objectives: 1\n",
      "  Number of constraints: 4\n",
      "  Number of variables: 8\n",
      "  Sense: unknown\n",
      "Solver: \n",
      "- Status: ok\n",
      "  Message: Ipopt 3.11.1\\x3a Optimal Solution Found\n",
      "  Termination condition: optimal\n",
      "  Id: 0\n",
      "  Error rc: 0\n",
      "  Time: 0.05453848838806152\n",
      "Solution: \n",
      "- number of solutions: 0\n",
      "  number of solutions displayed: 0\n"
     ]
    }
   ],
   "source": [
    "# Build model\n",
    "model = pyo.AbstractModel()\n",
    "\n",
    "# Define Sets\n",
    "model.vehicle_set = pyo.Set()\n",
    "model.technology_set = pyo.Set(model.vehicle_set)\n",
    "\n",
    "# Initialize technology set\n",
    "def init_vehicle_technology_set (model):\n",
    "    return ((vehicle_id, technology_id) for vehicle_id in model.vehicle_set for technology_id in model.technology_set[vehicle_id])\n",
    "\n",
    "model.vehicle_technology_set = pyo.Set(dimen=2, initialize=init_vehicle_technology_set)\n",
    "\n",
    "# Define parameters\n",
    "model.technology_costs = pyo.Param(model.vehicle_technology_set, within=pyo.NonNegativeReals)\n",
    "model.technology_ghg_rates = pyo.Param(model.vehicle_technology_set, within=pyo.NonNegativeReals)\n",
    "model.vehicle_target_ghg_rates = pyo.Param(model.vehicle_set, within=pyo.NonNegativeReals)\n",
    "model.preference_parameters = pyo.Param() # utility\n",
    "model.og_utility = pyo.Param()\n",
    "model.market_size = pyo.Param()\n",
    "\n",
    "# Define decision variables\n",
    "model.var_vehicle_technologies = pyo.Var(model.vehicle_technology_set, domain=pyo.NonNegativeReals, bounds=(0,1))\n",
    "model.var_vehicle_prices = pyo.Var(model.vehicle_set, domain=pyo.NonNegativeReals, bounds=(0,100))\n",
    "\n",
    "# Supplementary rules\n",
    "def vehicle_cost_rule(model,vehicle_id):\n",
    "    vehicle_cost = sum(model.technology_costs[(vehicle_id, technology_id)] * model.var_vehicle_technologies[(vehicle_id, technology_id)]\n",
    "                                                   for technology_id in model.technology_set[vehicle_id])\n",
    "    return vehicle_cost\n",
    "\n",
    "def vehicle_ghg_rate_rule(model,vehicle_id):\n",
    "    vehicle_ghg_rate = sum(model.technology_ghg_rates[(vehicle_id, technology_id)] * model.var_vehicle_technologies[(vehicle_id, technology_id)]\n",
    "                                                   for technology_id in model.technology_set[vehicle_id])\n",
    "    return vehicle_ghg_rate\n",
    "\n",
    "def vehicle_utility_rule(model,vehicle_id):\n",
    "    utility = model.preference_parameters * model.var_vehicle_prices[vehicle_id]\n",
    "    return utility\n",
    "\n",
    "def vehicle_demand_rule(model,vehicle_id):\n",
    "    vehicle_demand = pyo.exp(model.vehicle_utilities[vehicle_id]) / (sum(pyo.exp(model.vehicle_utilities[vehicle_id])for vehicle_id in model.vehicle_set) + pyo.exp(model.og_utility))\n",
    "    return vehicle_demand\n",
    "\n",
    "# Define intermediate vars\n",
    "model.vehicle_costs = pyo.Expression(model.vehicle_set, rule = vehicle_cost_rule)\n",
    "model.vehicle_ghg_rates = pyo.Expression(model.vehicle_set, rule = vehicle_ghg_rate_rule)\n",
    "model.vehicle_utilities = pyo.Expression(model.vehicle_set, rule = vehicle_utility_rule)  # Calculate utility\n",
    "model.vehicle_demands = pyo.Expression(model.vehicle_set, rule = vehicle_demand_rule)   # Caluclate demand\n",
    "\n",
    "# Define objective\n",
    "def profit_rule(model):\n",
    "    profit = sum((model.var_vehicle_prices[vehicle_id] - model.vehicle_costs[vehicle_id]) * model.vehicle_demands[vehicle_id] for vehicle_id in model.vehicle_set)\n",
    "    return profit\n",
    "\n",
    "model.obj = pyo.Objective(rule=profit_rule, sense=pyo.maximize)\n",
    "\n",
    "# Define constraints\n",
    "def design_rules(model):\n",
    "    return [1 - sum(model.var_vehicle_technologies[(vehicle_id, technology_id)] for technology_id in model.technology_set[vehicle_id]) == 0 for vehicle_id in model.vehicle_set]\n",
    "\n",
    "def swa_ghg_rule(model):\n",
    "    total_sales = sum(model.vehicle_demands[vehicle_id] for vehicle_id in model.vehicle_set)\n",
    "    swa_ghg_rate = sum(model.vehicle_ghg_rates[vehicle_id]*model.vehicle_demands[vehicle_id] for vehicle_id in model.vehicle_set) / total_sales\n",
    "    swa_target_rate = sum(model.vehicle_target_ghg_rates[vehicle_id]*model.vehicle_demands[vehicle_id] for vehicle_id in model.vehicle_set) / total_sales\n",
    "    return swa_ghg_rate  - swa_target_rate <= 0\n",
    "\n",
    "model.con_design_rule = pyo.ConstraintList(rule=design_rules)\n",
    "model.con_swa_ghg_rule = pyo.Constraint(rule=swa_ghg_rule)\n",
    "\n",
    "# Create an instance of the model\n",
    "instance = model.create_instance(dummy_vehicle_data)\n",
    "\n",
    "solver = pyo.SolverFactory('ipopt',executable='C:\\\\Ipopt\\\\bin\\\\ipopt.exe')\n",
    "results = solver.solve(instance)\n",
    "print(results)"
   ]
  },
  {
   "cell_type": "code",
   "execution_count": 18,
   "metadata": {
    "ExecuteTime": {
     "end_time": "2024-02-16T15:53:45.784063400Z",
     "start_time": "2024-02-16T15:53:45.763133300Z"
    }
   },
   "outputs": [
    {
     "name": "stdout",
     "output_type": "stream",
     "text": [
      "Technologies:\n",
      "var_vehicle_technologies : Size=5, Index=vehicle_technology_set\n",
      "    Key                    : Lower : Value                 : Upper : Fixed : Stale : Domain\n",
      "            ('EV', 'Base') :     0 :                   1.0 :     1 : False : False : NonNegativeReals\n",
      "         ('ICE_1', 'Base') :     0 :     0.999999991203029 :     1 : False : False : NonNegativeReals\n",
      "    ('ICE_1', 'Upgrade_1') :     0 : 8.796971006195143e-09 :     1 : False : False : NonNegativeReals\n",
      "         ('ICE_2', 'Base') :     0 :    0.9999999919605012 :     1 : False : False : NonNegativeReals\n",
      "    ('ICE_2', 'Upgrade_1') :     0 :   8.0394987951095e-09 :     1 : False : False : NonNegativeReals\n",
      "Prices:\n",
      "var_vehicle_prices : Size=3, Index=vehicle_set\n",
      "    Key   : Lower : Value              : Upper : Fixed : Stale : Domain\n",
      "       EV :     0 : 27.466442113117797 :   100 : False : False : NonNegativeReals\n",
      "    ICE_1 :     0 :  23.61136424197316 :   100 : False : False : NonNegativeReals\n",
      "    ICE_2 :     0 : 30.147594794087407 :   100 : False : False : NonNegativeReals\n",
      "Profit: 2.0751336632522253\n",
      "SWA GHG Rate:  149.999999541987\n",
      "  Vehicle   Price  Cost    Demand    GHG Rate\n",
      "0      EV  27.466  20.0  0.053120    0.000000\n",
      "1   ICE_1  23.611  10.0  0.078105  200.000000\n",
      "2   ICE_2  30.148  15.0  0.040627  249.999999\n"
     ]
    }
   ],
   "source": [
    "print(\"Technologies:\")\n",
    "instance.var_vehicle_technologies.pprint()\n",
    "\n",
    "# Print var_vehicle_prices\n",
    "print(\"Prices:\")\n",
    "instance.var_vehicle_prices.pprint()\n",
    "\n",
    "# Print results\n",
    "print(\"Profit:\", pyo.value(instance.obj))\n",
    "results_swa_ghg = sum(pyo.value(instance.vehicle_ghg_rates[vehicle_id])*pyo.value(instance.vehicle_demands[vehicle_id]) for vehicle_id in instance.vehicle_set) \\\n",
    "    / sum(pyo.value(instance.vehicle_demands[vehicle_id])for vehicle_id in instance.vehicle_set)\n",
    "print('SWA GHG Rate: ', results_swa_ghg)\n",
    "results_list = []\n",
    "for vehicle_id in instance.vehicle_set:\n",
    "    price = pyo.value(instance.var_vehicle_prices[vehicle_id])\n",
    "    vehicle_costs = pyo.value(instance.vehicle_costs[vehicle_id])\n",
    "    ghg_rate = pyo.value(instance.vehicle_ghg_rates[vehicle_id])\n",
    "    vehicle_demand = pyo.value(instance.vehicle_demands[vehicle_id])\n",
    "    results_list.append({\"Vehicle\": vehicle_id, \"Price\": price, \"Cost\": vehicle_costs, \"Demand\": vehicle_demand, \"GHG Rate\": ghg_rate})\n",
    "results_df = pd.DataFrame(results_list)\n",
    "results_df['Price'] = results_df['Price'].round(3)\n",
    "print(results_df)"
   ]
  }
 ],
 "metadata": {
  "kernelspec": {
   "display_name": "Python 3 (ipykernel)",
   "language": "python",
   "name": "python3"
  },
  "language_info": {
   "codemirror_mode": {
    "name": "ipython",
    "version": 3
   },
   "file_extension": ".py",
   "mimetype": "text/x-python",
   "name": "python",
   "nbconvert_exporter": "python",
   "pygments_lexer": "ipython3",
   "version": "3.12.1"
  }
 },
 "nbformat": 4,
 "nbformat_minor": 2
}
